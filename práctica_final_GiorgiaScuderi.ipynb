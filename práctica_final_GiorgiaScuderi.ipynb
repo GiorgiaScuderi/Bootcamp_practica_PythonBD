{
 "cells": [
  {
   "cell_type": "code",
   "execution_count": 5,
   "metadata": {},
   "outputs": [],
   "source": [
    "import pandas as pd"
   ]
  },
  {
   "cell_type": "code",
   "execution_count": 6,
   "metadata": {},
   "outputs": [],
   "source": [
    "# Importamos el dataset de los datos de los pokemon\n",
    "pokemon_data = pd.read_csv('dataset_final.csv')\n"
   ]
  },
  {
   "cell_type": "markdown",
   "metadata": {},
   "source": [
    "Cargar datos"
   ]
  },
  {
   "cell_type": "code",
   "execution_count": null,
   "metadata": {},
   "outputs": [],
   "source": [
    "'''\n",
    "1. ¿Cuántos pokémon hay en el dataset?\n",
    "'''\n",
    "df.shape[0]\n",
    "print(df[[df.shape[0]]])\n"
   ]
  },
  {
   "cell_type": "code",
   "execution_count": null,
   "metadata": {},
   "outputs": [],
   "source": [
    "'''\n",
    "2. ¿Cuántos pokémon hay de tipo Poison? (Type 1)\n",
    "'''\n",
    "df[df['Type 1']] == 'Poison'\n",
    "poison_df =[df[df['Type 1']] == 'Poison'].shape[0]\n",
    "print(poison_df)\n"
   ]
  },
  {
   "cell_type": "code",
   "execution_count": 1,
   "metadata": {},
   "outputs": [
    {
     "data": {
      "text/plain": [
       "'\\n3. ¿Cuántos tipos diferentes de pokémon hay? (Type 1)\\n'"
      ]
     },
     "execution_count": 1,
     "metadata": {},
     "output_type": "execute_result"
    }
   ],
   "source": [
    "'''\n",
    "3. ¿Cuántos tipos diferentes de pokémon hay? (Type 1)\n",
    "'''\n",
    "df.groupby(['Type 1'],['Type 2']).size() "
   ]
  },
  {
   "cell_type": "code",
   "execution_count": 2,
   "metadata": {},
   "outputs": [
    {
     "data": {
      "text/plain": [
       "'\\n2.1 ¿cual es el tipo de pokémon con más pokémon? (Type 1)\\n'"
      ]
     },
     "execution_count": 2,
     "metadata": {},
     "output_type": "execute_result"
    }
   ],
   "source": [
    "'''\n",
    "2. ¿Cuántos pokémon hay de cada tipo? (Type 1)\n",
    "'''\n",
    "(df['Type 1']=='Bug').sum()\n",
    "#df['Type 1']=='Insertar el tipo de pokemon').sum() \n",
    "'''\n",
    "2.1 ¿cual es el tipo de pokémon con más pokémon? (Type 1)\n",
    "\n",
    "'''\n",
    "print(\"Max tipo de pokemon:\",df['Type 1'].argmax()) "
   ]
  },
  {
   "cell_type": "code",
   "execution_count": null,
   "metadata": {},
   "outputs": [],
   "source": [
    "'''\n",
    "3. ¿Cuál es el pokémon más rápido?\n",
    "'''\n",
    "print(\"Max Speed:\",df['Speed'].argmax()) "
   ]
  },
  {
   "cell_type": "code",
   "execution_count": 50,
   "metadata": {},
   "outputs": [],
   "source": [
    "'''\n",
    "4. ¿Cuántos pokemon tiene una defensa superior a 100?\n",
    "'''\n",
    "df(df['Speed'] >= 100).head\n",
    "\n",
    "'''\n",
    "4.1 ¿Cuántos pokemon tiene una defensa superior a 100?\n",
    "'''\n"
   ]
  },
  {
   "cell_type": "code",
   "execution_count": null,
   "metadata": {},
   "outputs": [],
   "source": [
    "'''\n",
    "5. ¿Cuántos pokemon tiene una defensa superior a 100 y una velocidad superior a 100?\n",
    "'''\n",
    "\n",
    "df[(df['Defence'] >= 100) & (df['Speed'] >=100)].head(2)"
   ]
  },
  {
   "cell_type": "code",
   "execution_count": null,
   "metadata": {},
   "outputs": [],
   "source": [
    "'''\n",
    "6. Ordena el dataset por el tipo 1 y por el tipo 2\n",
    "'''\n",
    "df.sort_values('Type 1', 'Type 2')"
   ]
  },
  {
   "cell_type": "code",
   "execution_count": null,
   "metadata": {},
   "outputs": [],
   "source": [
    "'''\n",
    "7. Crea un nuevo dataset con los pokémon de tipo Water y Fire como primer tipo\n",
    "'''\n",
    "df_wf = df[(df['Type 1'] == 'Water') and (df['Type 1'] == 'Fire')]\n",
    "print(df_wf).head(3)\n"
   ]
  },
  {
   "cell_type": "code",
   "execution_count": null,
   "metadata": {},
   "outputs": [],
   "source": [
    "'''\n",
    "8. Crea un nuevo dataset con los pokemon Legendary\n",
    "'''\n",
    "df_leg = df['LEGENDARY'] == True\n",
    "df_legend = df[df_leg]\n",
    "df_legend.shape"
   ]
  },
  {
   "cell_type": "code",
   "execution_count": null,
   "metadata": {},
   "outputs": [],
   "source": [
    "'''\n",
    "9. Calcula el promedio de stats de los pokemon Legendary (HP, Attack, Defense, Sp. Atk, Sp. Def, Speed) y los no Legendary\n",
    "'''\n",
    "df[df_legend == ('HP', 'Attack', 'Defense', 'Sp. Atk', 'Sp. Def', 'Speed')].mean()\n",
    "\n",
    "df[df == ('HP', 'Attack', 'Defense', 'Sp.Atk', 'Sp.Def', 'Speed')].mean() "
   ]
  },
  {
   "cell_type": "code",
   "execution_count": null,
   "metadata": {},
   "outputs": [],
   "source": [
    "'''\n",
    "10. Crea un nuevo dataframe con el resultado del anterior ejercicio comparando ambos promedios\n",
    "\n",
    "ejemplo:\n",
    "                HP  Attack  Defense  Sp. Atk  Sp. Def  Speed\n",
    "Legendary       99      90       89       91       94     90\n",
    "No Legendary    80      95       75       12       43     87\n",
    "\n",
    "'''\n",
    "compara_promed = pd.concat([df_legend, df], axis=0)"
   ]
  },
  {
   "cell_type": "code",
   "execution_count": null,
   "metadata": {},
   "outputs": [],
   "source": [
    "'''\n",
    "11. Añade una nueva colunma ['Doble tipo'] al dataframe inicial que inndique si el pokemo tiene dos tipos o no\n",
    "'''\n",
    "dobl_t = df.fillna(0)\n",
    "df ['Doble Tipo'] = [True if x != 0 else False for x in dobl_t ['Type 2']]"
   ]
  },
  {
   "cell_type": "code",
   "execution_count": null,
   "metadata": {},
   "outputs": [],
   "source": [
    "'''\n",
    "12. Muestra las columas Name, Type 1, Type 2 de los pokémon que tienen dos tipos y ordenalos por Type 1 , Type 2 y Name\n",
    "'''\n",
    "df.columns\n",
    "\n",
    "df[df['Doble Tipo']].drop(columns = ['Total', 'HP', 'Attack', 'Defense', 'Sp. Atk', 'Sp. Def', 'Speed', 'Generation', 'Legendary', 'Doble tipo'])\n",
    "\n"
   ]
  },
  {
   "cell_type": "code",
   "execution_count": 18,
   "metadata": {},
   "outputs": [],
   "source": [
    "from functools import reduce\n",
    "\n",
    "'''\n",
    "13. Dada una lista de Artículos con sus precio. Define las siguientes funciones:\n",
    "Puedes definir más funciones si lo consideras necesario.\n",
    "'''\n",
    "articulos = {\n",
    "    'Camisa': 20,\n",
    "    'Pantalón': 30,\n",
    "    'Calcetines': 5,\n",
    "    'Zapatos': 50,\n",
    "    'Gorra': 10,\n",
    "    'Bufanda': 15,\n",
    "    'Gafas': 25,\n",
    "    'Reloj': 35,\n",
    "    'Corbata': 40,\n",
    "}\n",
    "\n",
    "compra = ['Camisa', 'Pantalón', 'Pantalón', 'Gorra', 'Gafas', 'Corbata']\n",
    "\n",
    "\n",
    "# A. Una función que calcule el precio total de la compra\n",
    "\n",
    "def tot_precio(articulos, compra):\n",
    "    precio = 0\n",
    "    for index in compra:\n",
    "        precio += articulos[index]\n",
    "    return price\n",
    "\n",
    "# B. Una función que calcule el precio total de la compra con un descuento del 10%\n",
    "\n",
    "def tot_precio_10(articulos, compra):\n",
    "    precio = 0\n",
    "    for index in compra:\n",
    "        precio += articulos[index]\n",
    "    return price*0.9\n",
    "\n",
    "\n",
    "# C. Una función que calcule el precio total de la compra con un descuento del 10% si la compra supera los 100€\n",
    "\n",
    "def tot_price_10(articulos, compra):\n",
    "    precio = 0\n",
    "    for index in compra:\n",
    "        precio += articulos[index]\n",
    "    if precio > 100:\n",
    "        precio*=0.9\n",
    "    return price\n",
    "\n",
    "# D. Una función que calcule el precio total aplicando el IVA (21%)\n",
    "\n",
    "# E.lista los artículos cuyo precio es superior a 20€"
   ]
  },
  {
   "cell_type": "code",
   "execution_count": null,
   "metadata": {},
   "outputs": [],
   "source": [
    "'''\n",
    "14. Dada una lista de tuplas con el nombre de un alumno, apellidos, curso y sus notas. \n",
    "\n",
    " Define una funcion que reciba el curso y saque una lista en la que aparezca e nombre y apellidos y el promedio de sus notas.\n",
    " Puedes definir más funciones si lo consideras necesario.\n",
    "'''\n",
    "\n",
    "alumnos = [('Juan', 'Pérez', '1', [5, 6, 7, 8, 9]),\n",
    "            ('Ana', 'García', '2', [5, 6, 7, 8, 9]),\n",
    "            ('Luis', 'González', '1', [5, 6, 7, 8, 9]),\n",
    "            ('María', 'Martínez', '2', [5, 6, 7, 8, 9]),\n",
    "            ('Pedro', 'Rodríguez', '1', [5, 6, 7, 8, 9]),\n",
    "            ('Lucía', 'Hernández', '2', [5, 6, 7, 8, 9]),\n",
    "            ('Marta', 'López', '1', [5, 6, 7, 8, 9]),\n",
    "            ('Sara', 'Díaz', '2', [5, 6, 7, 8, 9]),\n",
    "            ('Javier', 'Sánchez', '1', [5, 6, 7, 8, 9]),\n",
    "            ('Miguel', 'Fernández', '2', [5, 6, 7, 8, 9]),\n",
    "            ('Sergio', 'Jiménez', '1', [5, 6, 7, 8, 9]),\n",
    "            ('Sandra', 'Ruiz', '2', [5, 6, 7, 8, 9]),\n",
    "            ('Pablo', 'Álvarez', '1', [5, 6, 7, 8, 9]),\n",
    "            ('María', 'Gómez', '2', [5, 6, 7, 8, 9]),\n",
    "]"
   ]
  }
 ],
 "metadata": {
  "kernelspec": {
   "display_name": "Python 3 (ipykernel)",
   "language": "python",
   "name": "python3"
  },
  "language_info": {
   "codemirror_mode": {
    "name": "ipython",
    "version": 3
   },
   "file_extension": ".py",
   "mimetype": "text/x-python",
   "name": "python",
   "nbconvert_exporter": "python",
   "pygments_lexer": "ipython3",
   "version": "3.9.13"
  },
  "vscode": {
   "interpreter": {
    "hash": "916dbcbb3f70747c44a77c7bcd40155683ae19c65e1c03b4aa3499c5328201f1"
   }
  }
 },
 "nbformat": 4,
 "nbformat_minor": 2
}
